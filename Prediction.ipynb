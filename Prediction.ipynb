{
 "cells": [
  {
   "cell_type": "markdown",
   "id": "5f32c33b",
   "metadata": {},
   "source": [
    "## Weather Forecasting Project"
   ]
  },
  {
   "cell_type": "markdown",
   "id": "74657d76",
   "metadata": {},
   "source": [
    "Here, the weather dataset is a time-series data set with per-hour information about the weather conditions at a particular location. It records temperature, dew point temperature, relative humidity, wind speed, visibility, pressure and weather description."
   ]
  },
  {
   "cell_type": "markdown",
   "id": "e7cb7370",
   "metadata": {},
   "source": [
    "### Importing Libraries"
   ]
  },
  {
   "cell_type": "code",
   "execution_count": 74,
   "id": "9a6ffbbc",
   "metadata": {},
   "outputs": [],
   "source": [
    "import numpy as np\n",
    "import pandas as pd\n",
    "import matplotlib.pyplot as plt\n",
    "%matplotlib inline\n",
    "import datetime\n",
    "from itertools import chain\n",
    "import seaborn as sns\n",
    "from sklearn.preprocessing import LabelEncoder,StandardScaler\n",
    "from sklearn.tree import DecisionTreeClassifier\n",
    "from sklearn.ensemble import RandomForestClassifier,GradientBoostingClassifier,train_test_split\n",
    "from sklearn.svm import SVC\n",
    "from sklearn.neighbors import KNeighborsClassifier\n",
    "from sklearn.linear_model import LogisticRegression\n",
    "from sklearn.naive_bayes import GaussianNB\n",
    "from sklearn.model_selection import cross_val_score,GridSearchCV\n",
    "from sklearn.metrics import classification_report,confusion_matrix,accuracy_score\n",
    "import pickle"
   ]
  },
  {
   "cell_type": "code",
   "execution_count": 37,
   "id": "ad110a54",
   "metadata": {},
   "outputs": [],
   "source": [
    "df = pd.read_csv(\"weather-data.csv\")"
   ]
  },
  {
   "cell_type": "code",
   "execution_count": 3,
   "id": "1d63fb05",
   "metadata": {},
   "outputs": [
    {
     "data": {
      "text/html": [
       "<div>\n",
       "<style scoped>\n",
       "    .dataframe tbody tr th:only-of-type {\n",
       "        vertical-align: middle;\n",
       "    }\n",
       "\n",
       "    .dataframe tbody tr th {\n",
       "        vertical-align: top;\n",
       "    }\n",
       "\n",
       "    .dataframe thead th {\n",
       "        text-align: right;\n",
       "    }\n",
       "</style>\n",
       "<table border=\"1\" class=\"dataframe\">\n",
       "  <thead>\n",
       "    <tr style=\"text-align: right;\">\n",
       "      <th></th>\n",
       "      <th>Date/Time</th>\n",
       "      <th>Temperature (in Degree Celsius)</th>\n",
       "      <th>Dew Point Temperature (in Degree Celsius)</th>\n",
       "      <th>Relative Humidity (in %)</th>\n",
       "      <th>Wind Speed (in km/h)</th>\n",
       "      <th>Visibility (in km)</th>\n",
       "      <th>Pressure (in kilopascal)</th>\n",
       "      <th>Weather Description</th>\n",
       "    </tr>\n",
       "  </thead>\n",
       "  <tbody>\n",
       "    <tr>\n",
       "      <th>0</th>\n",
       "      <td>1/1/2012 0:00</td>\n",
       "      <td>-1.8</td>\n",
       "      <td>-3.9</td>\n",
       "      <td>86</td>\n",
       "      <td>4</td>\n",
       "      <td>8.0</td>\n",
       "      <td>101.24</td>\n",
       "      <td>Fog</td>\n",
       "    </tr>\n",
       "    <tr>\n",
       "      <th>1</th>\n",
       "      <td>1/1/2012 1:00</td>\n",
       "      <td>-1.8</td>\n",
       "      <td>-3.7</td>\n",
       "      <td>87</td>\n",
       "      <td>4</td>\n",
       "      <td>8.0</td>\n",
       "      <td>101.24</td>\n",
       "      <td>Fog</td>\n",
       "    </tr>\n",
       "    <tr>\n",
       "      <th>2</th>\n",
       "      <td>1/1/2012 2:00</td>\n",
       "      <td>-1.8</td>\n",
       "      <td>-3.4</td>\n",
       "      <td>89</td>\n",
       "      <td>7</td>\n",
       "      <td>4.0</td>\n",
       "      <td>101.26</td>\n",
       "      <td>Freezing Drizzle,Fog</td>\n",
       "    </tr>\n",
       "    <tr>\n",
       "      <th>3</th>\n",
       "      <td>1/1/2012 3:00</td>\n",
       "      <td>-1.5</td>\n",
       "      <td>-3.2</td>\n",
       "      <td>88</td>\n",
       "      <td>6</td>\n",
       "      <td>4.0</td>\n",
       "      <td>101.27</td>\n",
       "      <td>Freezing Drizzle,Fog</td>\n",
       "    </tr>\n",
       "    <tr>\n",
       "      <th>4</th>\n",
       "      <td>1/1/2012 4:00</td>\n",
       "      <td>-1.5</td>\n",
       "      <td>-3.3</td>\n",
       "      <td>88</td>\n",
       "      <td>7</td>\n",
       "      <td>4.8</td>\n",
       "      <td>101.23</td>\n",
       "      <td>Fog</td>\n",
       "    </tr>\n",
       "  </tbody>\n",
       "</table>\n",
       "</div>"
      ],
      "text/plain": [
       "       Date/Time  Temperature (in Degree Celsius)  \\\n",
       "0  1/1/2012 0:00                             -1.8   \n",
       "1  1/1/2012 1:00                             -1.8   \n",
       "2  1/1/2012 2:00                             -1.8   \n",
       "3  1/1/2012 3:00                             -1.5   \n",
       "4  1/1/2012 4:00                             -1.5   \n",
       "\n",
       "   Dew Point Temperature (in Degree Celsius)  Relative Humidity (in %)  \\\n",
       "0                                       -3.9                        86   \n",
       "1                                       -3.7                        87   \n",
       "2                                       -3.4                        89   \n",
       "3                                       -3.2                        88   \n",
       "4                                       -3.3                        88   \n",
       "\n",
       "   Wind Speed (in km/h)  Visibility (in km)  Pressure (in kilopascal)  \\\n",
       "0                     4                 8.0                    101.24   \n",
       "1                     4                 8.0                    101.24   \n",
       "2                     7                 4.0                    101.26   \n",
       "3                     6                 4.0                    101.27   \n",
       "4                     7                 4.8                    101.23   \n",
       "\n",
       "    Weather Description  \n",
       "0                   Fog  \n",
       "1                   Fog  \n",
       "2  Freezing Drizzle,Fog  \n",
       "3  Freezing Drizzle,Fog  \n",
       "4                   Fog  "
      ]
     },
     "execution_count": 3,
     "metadata": {},
     "output_type": "execute_result"
    }
   ],
   "source": [
    "df.head()"
   ]
  },
  {
   "cell_type": "code",
   "execution_count": 4,
   "id": "18b26784",
   "metadata": {},
   "outputs": [
    {
     "data": {
      "text/plain": [
       "(8784, 8)"
      ]
     },
     "execution_count": 4,
     "metadata": {},
     "output_type": "execute_result"
    }
   ],
   "source": [
    "#dimension\n",
    "df.shape"
   ]
  },
  {
   "cell_type": "code",
   "execution_count": 5,
   "id": "785527d1",
   "metadata": {},
   "outputs": [
    {
     "data": {
      "text/plain": [
       "Index(['Date/Time', 'Temperature (in Degree Celsius)',\n",
       "       'Dew Point Temperature (in Degree Celsius)', 'Relative Humidity (in %)',\n",
       "       'Wind Speed (in km/h)', 'Visibility (in km)',\n",
       "       'Pressure (in kilopascal)', 'Weather Description'],\n",
       "      dtype='object')"
      ]
     },
     "execution_count": 5,
     "metadata": {},
     "output_type": "execute_result"
    }
   ],
   "source": [
    "#column names\n",
    "df.columns"
   ]
  },
  {
   "cell_type": "code",
   "execution_count": 6,
   "id": "2df6f9e8",
   "metadata": {},
   "outputs": [
    {
     "data": {
      "text/plain": [
       "Date/Time                                     object\n",
       "Temperature (in Degree Celsius)              float64\n",
       "Dew Point Temperature (in Degree Celsius)    float64\n",
       "Relative Humidity (in %)                       int64\n",
       "Wind Speed (in km/h)                           int64\n",
       "Visibility (in km)                           float64\n",
       "Pressure (in kilopascal)                     float64\n",
       "Weather Description                           object\n",
       "dtype: object"
      ]
     },
     "execution_count": 6,
     "metadata": {},
     "output_type": "execute_result"
    }
   ],
   "source": [
    "#data types\n",
    "df.dtypes"
   ]
  },
  {
   "cell_type": "code",
   "execution_count": 7,
   "id": "b2a3cb99",
   "metadata": {},
   "outputs": [
    {
     "name": "stdout",
     "output_type": "stream",
     "text": [
      "<class 'pandas.core.frame.DataFrame'>\n",
      "RangeIndex: 8784 entries, 0 to 8783\n",
      "Data columns (total 8 columns):\n",
      " #   Column                                     Non-Null Count  Dtype  \n",
      "---  ------                                     --------------  -----  \n",
      " 0   Date/Time                                  8784 non-null   object \n",
      " 1   Temperature (in Degree Celsius)            8784 non-null   float64\n",
      " 2   Dew Point Temperature (in Degree Celsius)  8784 non-null   float64\n",
      " 3   Relative Humidity (in %)                   8784 non-null   int64  \n",
      " 4   Wind Speed (in km/h)                       8784 non-null   int64  \n",
      " 5   Visibility (in km)                         8784 non-null   float64\n",
      " 6   Pressure (in kilopascal)                   8784 non-null   float64\n",
      " 7   Weather Description                        8784 non-null   object \n",
      "dtypes: float64(4), int64(2), object(2)\n",
      "memory usage: 549.1+ KB\n"
     ]
    }
   ],
   "source": [
    "#information\n",
    "df.info()"
   ]
  },
  {
   "cell_type": "code",
   "execution_count": 8,
   "id": "7b78f2b1",
   "metadata": {},
   "outputs": [
    {
     "data": {
      "text/html": [
       "<div>\n",
       "<style scoped>\n",
       "    .dataframe tbody tr th:only-of-type {\n",
       "        vertical-align: middle;\n",
       "    }\n",
       "\n",
       "    .dataframe tbody tr th {\n",
       "        vertical-align: top;\n",
       "    }\n",
       "\n",
       "    .dataframe thead th {\n",
       "        text-align: right;\n",
       "    }\n",
       "</style>\n",
       "<table border=\"1\" class=\"dataframe\">\n",
       "  <thead>\n",
       "    <tr style=\"text-align: right;\">\n",
       "      <th></th>\n",
       "      <th>Temperature (in Degree Celsius)</th>\n",
       "      <th>Dew Point Temperature (in Degree Celsius)</th>\n",
       "      <th>Relative Humidity (in %)</th>\n",
       "      <th>Wind Speed (in km/h)</th>\n",
       "      <th>Visibility (in km)</th>\n",
       "      <th>Pressure (in kilopascal)</th>\n",
       "    </tr>\n",
       "  </thead>\n",
       "  <tbody>\n",
       "    <tr>\n",
       "      <th>count</th>\n",
       "      <td>8784.000000</td>\n",
       "      <td>8784.000000</td>\n",
       "      <td>8784.000000</td>\n",
       "      <td>8784.000000</td>\n",
       "      <td>8784.000000</td>\n",
       "      <td>8784.000000</td>\n",
       "    </tr>\n",
       "    <tr>\n",
       "      <th>mean</th>\n",
       "      <td>8.798144</td>\n",
       "      <td>2.555294</td>\n",
       "      <td>67.431694</td>\n",
       "      <td>14.945469</td>\n",
       "      <td>27.664447</td>\n",
       "      <td>101.051623</td>\n",
       "    </tr>\n",
       "    <tr>\n",
       "      <th>std</th>\n",
       "      <td>11.687883</td>\n",
       "      <td>10.883072</td>\n",
       "      <td>16.918881</td>\n",
       "      <td>8.688696</td>\n",
       "      <td>12.622688</td>\n",
       "      <td>0.844005</td>\n",
       "    </tr>\n",
       "    <tr>\n",
       "      <th>min</th>\n",
       "      <td>-23.300000</td>\n",
       "      <td>-28.500000</td>\n",
       "      <td>18.000000</td>\n",
       "      <td>0.000000</td>\n",
       "      <td>0.200000</td>\n",
       "      <td>97.520000</td>\n",
       "    </tr>\n",
       "    <tr>\n",
       "      <th>25%</th>\n",
       "      <td>0.100000</td>\n",
       "      <td>-5.900000</td>\n",
       "      <td>56.000000</td>\n",
       "      <td>9.000000</td>\n",
       "      <td>24.100000</td>\n",
       "      <td>100.560000</td>\n",
       "    </tr>\n",
       "    <tr>\n",
       "      <th>50%</th>\n",
       "      <td>9.300000</td>\n",
       "      <td>3.300000</td>\n",
       "      <td>68.000000</td>\n",
       "      <td>13.000000</td>\n",
       "      <td>25.000000</td>\n",
       "      <td>101.070000</td>\n",
       "    </tr>\n",
       "    <tr>\n",
       "      <th>75%</th>\n",
       "      <td>18.800000</td>\n",
       "      <td>11.800000</td>\n",
       "      <td>81.000000</td>\n",
       "      <td>20.000000</td>\n",
       "      <td>25.000000</td>\n",
       "      <td>101.590000</td>\n",
       "    </tr>\n",
       "    <tr>\n",
       "      <th>max</th>\n",
       "      <td>33.000000</td>\n",
       "      <td>24.400000</td>\n",
       "      <td>100.000000</td>\n",
       "      <td>83.000000</td>\n",
       "      <td>48.300000</td>\n",
       "      <td>103.650000</td>\n",
       "    </tr>\n",
       "  </tbody>\n",
       "</table>\n",
       "</div>"
      ],
      "text/plain": [
       "       Temperature (in Degree Celsius)  \\\n",
       "count                      8784.000000   \n",
       "mean                          8.798144   \n",
       "std                          11.687883   \n",
       "min                         -23.300000   \n",
       "25%                           0.100000   \n",
       "50%                           9.300000   \n",
       "75%                          18.800000   \n",
       "max                          33.000000   \n",
       "\n",
       "       Dew Point Temperature (in Degree Celsius)  Relative Humidity (in %)  \\\n",
       "count                                8784.000000               8784.000000   \n",
       "mean                                    2.555294                 67.431694   \n",
       "std                                    10.883072                 16.918881   \n",
       "min                                   -28.500000                 18.000000   \n",
       "25%                                    -5.900000                 56.000000   \n",
       "50%                                     3.300000                 68.000000   \n",
       "75%                                    11.800000                 81.000000   \n",
       "max                                    24.400000                100.000000   \n",
       "\n",
       "       Wind Speed (in km/h)  Visibility (in km)  Pressure (in kilopascal)  \n",
       "count           8784.000000         8784.000000               8784.000000  \n",
       "mean              14.945469           27.664447                101.051623  \n",
       "std                8.688696           12.622688                  0.844005  \n",
       "min                0.000000            0.200000                 97.520000  \n",
       "25%                9.000000           24.100000                100.560000  \n",
       "50%               13.000000           25.000000                101.070000  \n",
       "75%               20.000000           25.000000                101.590000  \n",
       "max               83.000000           48.300000                103.650000  "
      ]
     },
     "execution_count": 8,
     "metadata": {},
     "output_type": "execute_result"
    }
   ],
   "source": [
    "#statistical description\n",
    "df.describe()"
   ]
  },
  {
   "cell_type": "code",
   "execution_count": 38,
   "id": "1fb7f314",
   "metadata": {},
   "outputs": [
    {
     "data": {
      "text/html": [
       "<div>\n",
       "<style scoped>\n",
       "    .dataframe tbody tr th:only-of-type {\n",
       "        vertical-align: middle;\n",
       "    }\n",
       "\n",
       "    .dataframe tbody tr th {\n",
       "        vertical-align: top;\n",
       "    }\n",
       "\n",
       "    .dataframe thead th {\n",
       "        text-align: right;\n",
       "    }\n",
       "</style>\n",
       "<table border=\"1\" class=\"dataframe\">\n",
       "  <thead>\n",
       "    <tr style=\"text-align: right;\">\n",
       "      <th></th>\n",
       "      <th>Date/Time</th>\n",
       "      <th>Temperature (in Degree Celsius)</th>\n",
       "      <th>Dew Point Temperature (in Degree Celsius)</th>\n",
       "      <th>Relative Humidity (in %)</th>\n",
       "      <th>Wind Speed (in km/h)</th>\n",
       "      <th>Visibility (in km)</th>\n",
       "      <th>Pressure (in kilopascal)</th>\n",
       "      <th>Weather Description</th>\n",
       "    </tr>\n",
       "  </thead>\n",
       "  <tbody>\n",
       "    <tr>\n",
       "      <th>0</th>\n",
       "      <td>2012-01-01 00:00:00</td>\n",
       "      <td>-1.8</td>\n",
       "      <td>-3.9</td>\n",
       "      <td>86</td>\n",
       "      <td>4</td>\n",
       "      <td>8.0</td>\n",
       "      <td>101.24</td>\n",
       "      <td>Fog</td>\n",
       "    </tr>\n",
       "    <tr>\n",
       "      <th>1</th>\n",
       "      <td>2012-01-01 01:00:00</td>\n",
       "      <td>-1.8</td>\n",
       "      <td>-3.7</td>\n",
       "      <td>87</td>\n",
       "      <td>4</td>\n",
       "      <td>8.0</td>\n",
       "      <td>101.24</td>\n",
       "      <td>Fog</td>\n",
       "    </tr>\n",
       "    <tr>\n",
       "      <th>2</th>\n",
       "      <td>2012-01-01 02:00:00</td>\n",
       "      <td>-1.8</td>\n",
       "      <td>-3.4</td>\n",
       "      <td>89</td>\n",
       "      <td>7</td>\n",
       "      <td>4.0</td>\n",
       "      <td>101.26</td>\n",
       "      <td>Freezing Drizzle,Fog</td>\n",
       "    </tr>\n",
       "    <tr>\n",
       "      <th>3</th>\n",
       "      <td>2012-01-01 03:00:00</td>\n",
       "      <td>-1.5</td>\n",
       "      <td>-3.2</td>\n",
       "      <td>88</td>\n",
       "      <td>6</td>\n",
       "      <td>4.0</td>\n",
       "      <td>101.27</td>\n",
       "      <td>Freezing Drizzle,Fog</td>\n",
       "    </tr>\n",
       "    <tr>\n",
       "      <th>4</th>\n",
       "      <td>2012-01-01 04:00:00</td>\n",
       "      <td>-1.5</td>\n",
       "      <td>-3.3</td>\n",
       "      <td>88</td>\n",
       "      <td>7</td>\n",
       "      <td>4.8</td>\n",
       "      <td>101.23</td>\n",
       "      <td>Fog</td>\n",
       "    </tr>\n",
       "  </tbody>\n",
       "</table>\n",
       "</div>"
      ],
      "text/plain": [
       "            Date/Time  Temperature (in Degree Celsius)  \\\n",
       "0 2012-01-01 00:00:00                             -1.8   \n",
       "1 2012-01-01 01:00:00                             -1.8   \n",
       "2 2012-01-01 02:00:00                             -1.8   \n",
       "3 2012-01-01 03:00:00                             -1.5   \n",
       "4 2012-01-01 04:00:00                             -1.5   \n",
       "\n",
       "   Dew Point Temperature (in Degree Celsius)  Relative Humidity (in %)  \\\n",
       "0                                       -3.9                        86   \n",
       "1                                       -3.7                        87   \n",
       "2                                       -3.4                        89   \n",
       "3                                       -3.2                        88   \n",
       "4                                       -3.3                        88   \n",
       "\n",
       "   Wind Speed (in km/h)  Visibility (in km)  Pressure (in kilopascal)  \\\n",
       "0                     4                 8.0                    101.24   \n",
       "1                     4                 8.0                    101.24   \n",
       "2                     7                 4.0                    101.26   \n",
       "3                     6                 4.0                    101.27   \n",
       "4                     7                 4.8                    101.23   \n",
       "\n",
       "    Weather Description  \n",
       "0                   Fog  \n",
       "1                   Fog  \n",
       "2  Freezing Drizzle,Fog  \n",
       "3  Freezing Drizzle,Fog  \n",
       "4                   Fog  "
      ]
     },
     "execution_count": 38,
     "metadata": {},
     "output_type": "execute_result"
    }
   ],
   "source": [
    "# Set 'date/time' as the index\n",
    "df['Date/Time'] = pd.to_datetime(df['Date/Time'])\n",
    "df.head()"
   ]
  },
  {
   "cell_type": "markdown",
   "id": "e94c8fb5",
   "metadata": {},
   "source": [
    "#### To find unique instances of weather types"
   ]
  },
  {
   "cell_type": "code",
   "execution_count": 9,
   "id": "0337586c",
   "metadata": {},
   "outputs": [
    {
     "data": {
      "text/plain": [
       "array(['Fog', 'Freezing Drizzle,Fog', 'Mostly Cloudy', 'Cloudy', 'Rain',\n",
       "       'Rain Showers', 'Mainly Clear', 'Snow Showers', 'Snow', 'Clear',\n",
       "       'Freezing Rain,Fog', 'Freezing Rain', 'Freezing Drizzle',\n",
       "       'Rain,Snow', 'Moderate Snow', 'Freezing Drizzle,Snow',\n",
       "       'Freezing Rain,Snow Grains', 'Snow,Blowing Snow', 'Freezing Fog',\n",
       "       'Haze', 'Rain,Fog', 'Drizzle,Fog', 'Drizzle',\n",
       "       'Freezing Drizzle,Haze', 'Freezing Rain,Haze', 'Snow,Haze',\n",
       "       'Snow,Fog', 'Snow,Ice Pellets', 'Rain,Haze', 'Thunderstorms,Rain',\n",
       "       'Thunderstorms,Rain Showers', 'Thunderstorms,Heavy Rain Showers',\n",
       "       'Thunderstorms,Rain Showers,Fog', 'Thunderstorms',\n",
       "       'Thunderstorms,Rain,Fog',\n",
       "       'Thunderstorms,Moderate Rain Showers,Fog', 'Rain Showers,Fog',\n",
       "       'Rain Showers,Snow Showers', 'Snow Pellets', 'Rain,Snow,Fog',\n",
       "       'Moderate Rain,Fog', 'Freezing Rain,Ice Pellets,Fog',\n",
       "       'Drizzle,Ice Pellets,Fog', 'Drizzle,Snow', 'Rain,Ice Pellets',\n",
       "       'Drizzle,Snow,Fog', 'Rain,Snow Grains', 'Rain,Snow,Ice Pellets',\n",
       "       'Snow Showers,Fog', 'Moderate Snow,Blowing Snow'], dtype=object)"
      ]
     },
     "execution_count": 9,
     "metadata": {},
     "output_type": "execute_result"
    }
   ],
   "source": [
    "df['Weather Description'].unique()"
   ]
  },
  {
   "cell_type": "markdown",
   "id": "f2222ade",
   "metadata": {},
   "source": [
    "## Data Preprocessing"
   ]
  },
  {
   "cell_type": "markdown",
   "id": "1aed476e",
   "metadata": {},
   "source": [
    "## Convert the Weather Categories into Standard Categories"
   ]
  },
  {
   "cell_type": "code",
   "execution_count": 13,
   "id": "6279199c",
   "metadata": {},
   "outputs": [],
   "source": [
    "x = 'Thunderstorms,Moderate Rain Showers,Fog'"
   ]
  },
  {
   "cell_type": "code",
   "execution_count": 14,
   "id": "36eb4112",
   "metadata": {},
   "outputs": [
    {
     "data": {
      "text/plain": [
       "[['Thunderstorms'], ['Moderate', 'Rain', 'Showers'], ['Fog']]"
      ]
     },
     "execution_count": 14,
     "metadata": {},
     "output_type": "execute_result"
    }
   ],
   "source": [
    "list_of_list = [w.split() for w in x.split(',')]\n",
    "list_of_list"
   ]
  },
  {
   "cell_type": "code",
   "execution_count": 17,
   "id": "9e95f7c4",
   "metadata": {},
   "outputs": [
    {
     "data": {
      "text/plain": [
       "['Thunderstorms', 'Moderate', 'Rain', 'Showers', 'Fog']"
      ]
     },
     "execution_count": 17,
     "metadata": {},
     "output_type": "execute_result"
    }
   ],
   "source": [
    "flat_list =list(chain(*list_of_list))\n",
    "flat_list"
   ]
  },
  {
   "cell_type": "code",
   "execution_count": 18,
   "id": "c0e8ea69",
   "metadata": {},
   "outputs": [],
   "source": [
    "def Create_list(x):\n",
    "    list_of_list = [w.split() for w in x.split(',')]\n",
    "    flat_list =list(chain(*list_of_list))\n",
    "    return flat_list"
   ]
  },
  {
   "cell_type": "code",
   "execution_count": 22,
   "id": "ff0149a6",
   "metadata": {},
   "outputs": [],
   "source": [
    "def Get_Weather(list1):\n",
    "    if 'Fog' in list1 and 'Rain' in list1:\n",
    "        return 'RAIN+FOG'\n",
    "    elif 'Snow' in list1 and 'Rain' in list1:\n",
    "        return 'SNOW+RAIN'\n",
    "    elif 'Snow' in list1:\n",
    "        return 'SNOW'\n",
    "    elif 'Rain' in list1:\n",
    "        return 'RAIN'\n",
    "    elif 'Fog' in list1:\n",
    "        return 'FOG'\n",
    "    elif 'Clear' in list1:\n",
    "        return 'CLEAR'\n",
    "    elif 'Cloudy' in list1:\n",
    "        return 'CLOUDY'\n",
    "    else:\n",
    "        return 'RAIN'"
   ]
  },
  {
   "cell_type": "code",
   "execution_count": 23,
   "id": "11c6ca83",
   "metadata": {},
   "outputs": [
    {
     "data": {
      "text/plain": [
       "['Thunderstorms', 'Moderate', 'Rain', 'Showers', 'Fog']"
      ]
     },
     "execution_count": 23,
     "metadata": {},
     "output_type": "execute_result"
    }
   ],
   "source": [
    "Create_list(x)"
   ]
  },
  {
   "cell_type": "code",
   "execution_count": 24,
   "id": "f9ac4af9",
   "metadata": {},
   "outputs": [
    {
     "data": {
      "text/plain": [
       "'RAIN+FOG'"
      ]
     },
     "execution_count": 24,
     "metadata": {},
     "output_type": "execute_result"
    }
   ],
   "source": [
    "Get_Weather(Create_list(x))"
   ]
  },
  {
   "cell_type": "code",
   "execution_count": 39,
   "id": "e22e0734",
   "metadata": {},
   "outputs": [],
   "source": [
    "df['Weather'] = df['Weather Description'].apply(lambda x : Get_Weather(Create_list(x)))"
   ]
  },
  {
   "cell_type": "code",
   "execution_count": 40,
   "id": "92d07a76",
   "metadata": {},
   "outputs": [
    {
     "data": {
      "text/html": [
       "<div>\n",
       "<style scoped>\n",
       "    .dataframe tbody tr th:only-of-type {\n",
       "        vertical-align: middle;\n",
       "    }\n",
       "\n",
       "    .dataframe tbody tr th {\n",
       "        vertical-align: top;\n",
       "    }\n",
       "\n",
       "    .dataframe thead th {\n",
       "        text-align: right;\n",
       "    }\n",
       "</style>\n",
       "<table border=\"1\" class=\"dataframe\">\n",
       "  <thead>\n",
       "    <tr style=\"text-align: right;\">\n",
       "      <th></th>\n",
       "      <th>Date/Time</th>\n",
       "      <th>Temperature (in Degree Celsius)</th>\n",
       "      <th>Dew Point Temperature (in Degree Celsius)</th>\n",
       "      <th>Relative Humidity (in %)</th>\n",
       "      <th>Wind Speed (in km/h)</th>\n",
       "      <th>Visibility (in km)</th>\n",
       "      <th>Pressure (in kilopascal)</th>\n",
       "      <th>Weather Description</th>\n",
       "      <th>Weather</th>\n",
       "    </tr>\n",
       "  </thead>\n",
       "  <tbody>\n",
       "    <tr>\n",
       "      <th>0</th>\n",
       "      <td>2012-01-01 00:00:00</td>\n",
       "      <td>-1.8</td>\n",
       "      <td>-3.9</td>\n",
       "      <td>86</td>\n",
       "      <td>4</td>\n",
       "      <td>8.0</td>\n",
       "      <td>101.24</td>\n",
       "      <td>Fog</td>\n",
       "      <td>FOG</td>\n",
       "    </tr>\n",
       "    <tr>\n",
       "      <th>1</th>\n",
       "      <td>2012-01-01 01:00:00</td>\n",
       "      <td>-1.8</td>\n",
       "      <td>-3.7</td>\n",
       "      <td>87</td>\n",
       "      <td>4</td>\n",
       "      <td>8.0</td>\n",
       "      <td>101.24</td>\n",
       "      <td>Fog</td>\n",
       "      <td>FOG</td>\n",
       "    </tr>\n",
       "    <tr>\n",
       "      <th>2</th>\n",
       "      <td>2012-01-01 02:00:00</td>\n",
       "      <td>-1.8</td>\n",
       "      <td>-3.4</td>\n",
       "      <td>89</td>\n",
       "      <td>7</td>\n",
       "      <td>4.0</td>\n",
       "      <td>101.26</td>\n",
       "      <td>Freezing Drizzle,Fog</td>\n",
       "      <td>FOG</td>\n",
       "    </tr>\n",
       "    <tr>\n",
       "      <th>3</th>\n",
       "      <td>2012-01-01 03:00:00</td>\n",
       "      <td>-1.5</td>\n",
       "      <td>-3.2</td>\n",
       "      <td>88</td>\n",
       "      <td>6</td>\n",
       "      <td>4.0</td>\n",
       "      <td>101.27</td>\n",
       "      <td>Freezing Drizzle,Fog</td>\n",
       "      <td>FOG</td>\n",
       "    </tr>\n",
       "    <tr>\n",
       "      <th>4</th>\n",
       "      <td>2012-01-01 04:00:00</td>\n",
       "      <td>-1.5</td>\n",
       "      <td>-3.3</td>\n",
       "      <td>88</td>\n",
       "      <td>7</td>\n",
       "      <td>4.8</td>\n",
       "      <td>101.23</td>\n",
       "      <td>Fog</td>\n",
       "      <td>FOG</td>\n",
       "    </tr>\n",
       "  </tbody>\n",
       "</table>\n",
       "</div>"
      ],
      "text/plain": [
       "            Date/Time  Temperature (in Degree Celsius)  \\\n",
       "0 2012-01-01 00:00:00                             -1.8   \n",
       "1 2012-01-01 01:00:00                             -1.8   \n",
       "2 2012-01-01 02:00:00                             -1.8   \n",
       "3 2012-01-01 03:00:00                             -1.5   \n",
       "4 2012-01-01 04:00:00                             -1.5   \n",
       "\n",
       "   Dew Point Temperature (in Degree Celsius)  Relative Humidity (in %)  \\\n",
       "0                                       -3.9                        86   \n",
       "1                                       -3.7                        87   \n",
       "2                                       -3.4                        89   \n",
       "3                                       -3.2                        88   \n",
       "4                                       -3.3                        88   \n",
       "\n",
       "   Wind Speed (in km/h)  Visibility (in km)  Pressure (in kilopascal)  \\\n",
       "0                     4                 8.0                    101.24   \n",
       "1                     4                 8.0                    101.24   \n",
       "2                     7                 4.0                    101.26   \n",
       "3                     6                 4.0                    101.27   \n",
       "4                     7                 4.8                    101.23   \n",
       "\n",
       "    Weather Description Weather  \n",
       "0                   Fog     FOG  \n",
       "1                   Fog     FOG  \n",
       "2  Freezing Drizzle,Fog     FOG  \n",
       "3  Freezing Drizzle,Fog     FOG  \n",
       "4                   Fog     FOG  "
      ]
     },
     "execution_count": 40,
     "metadata": {},
     "output_type": "execute_result"
    }
   ],
   "source": [
    "df.head()"
   ]
  },
  {
   "cell_type": "code",
   "execution_count": 41,
   "id": "6b564207",
   "metadata": {},
   "outputs": [
    {
     "data": {
      "text/plain": [
       "CLOUDY       3797\n",
       "CLEAR        3432\n",
       "RAIN          603\n",
       "SNOW          556\n",
       "FOG           241\n",
       "RAIN+FOG      129\n",
       "SNOW+RAIN      26\n",
       "Name: Weather, dtype: int64"
      ]
     },
     "execution_count": 41,
     "metadata": {},
     "output_type": "execute_result"
    }
   ],
   "source": [
    "df.Weather.value_counts()"
   ]
  },
  {
   "cell_type": "markdown",
   "id": "4b7e327e",
   "metadata": {},
   "source": [
    "### Sample Selection of 4 Categories"
   ]
  },
  {
   "cell_type": "code",
   "execution_count": 42,
   "id": "8bf9b104",
   "metadata": {},
   "outputs": [],
   "source": [
    "cloudy_df=df[df['Weather']=='CLOUDY'].sample(600)"
   ]
  },
  {
   "cell_type": "code",
   "execution_count": 43,
   "id": "ee8f715c",
   "metadata": {},
   "outputs": [],
   "source": [
    "clear_df=df[df['Weather']=='CLEAR'].sample(600)"
   ]
  },
  {
   "cell_type": "code",
   "execution_count": 44,
   "id": "5772a3ac",
   "metadata": {},
   "outputs": [],
   "source": [
    "rain_df=df[df['Weather']=='RAIN']"
   ]
  },
  {
   "cell_type": "code",
   "execution_count": 45,
   "id": "3cd6b113",
   "metadata": {},
   "outputs": [],
   "source": [
    "snow_df=df[df['Weather']=='SNOW']"
   ]
  },
  {
   "cell_type": "code",
   "execution_count": 46,
   "id": "56ab26dc",
   "metadata": {},
   "outputs": [],
   "source": [
    "weather_df = pd.concat([cloudy_df,clear_df,rain_df,snow_df],axis=0)"
   ]
  },
  {
   "cell_type": "code",
   "execution_count": 47,
   "id": "3afd5764",
   "metadata": {},
   "outputs": [
    {
     "data": {
      "text/html": [
       "<div>\n",
       "<style scoped>\n",
       "    .dataframe tbody tr th:only-of-type {\n",
       "        vertical-align: middle;\n",
       "    }\n",
       "\n",
       "    .dataframe tbody tr th {\n",
       "        vertical-align: top;\n",
       "    }\n",
       "\n",
       "    .dataframe thead th {\n",
       "        text-align: right;\n",
       "    }\n",
       "</style>\n",
       "<table border=\"1\" class=\"dataframe\">\n",
       "  <thead>\n",
       "    <tr style=\"text-align: right;\">\n",
       "      <th></th>\n",
       "      <th>Date/Time</th>\n",
       "      <th>Temperature (in Degree Celsius)</th>\n",
       "      <th>Dew Point Temperature (in Degree Celsius)</th>\n",
       "      <th>Relative Humidity (in %)</th>\n",
       "      <th>Wind Speed (in km/h)</th>\n",
       "      <th>Visibility (in km)</th>\n",
       "      <th>Pressure (in kilopascal)</th>\n",
       "      <th>Weather Description</th>\n",
       "      <th>Weather</th>\n",
       "    </tr>\n",
       "  </thead>\n",
       "  <tbody>\n",
       "    <tr>\n",
       "      <th>4122</th>\n",
       "      <td>2012-06-20 18:00:00</td>\n",
       "      <td>32.4</td>\n",
       "      <td>19.9</td>\n",
       "      <td>48</td>\n",
       "      <td>17</td>\n",
       "      <td>24.1</td>\n",
       "      <td>100.61</td>\n",
       "      <td>Mostly Cloudy</td>\n",
       "      <td>CLOUDY</td>\n",
       "    </tr>\n",
       "    <tr>\n",
       "      <th>5019</th>\n",
       "      <td>2012-07-28 03:00:00</td>\n",
       "      <td>18.7</td>\n",
       "      <td>14.3</td>\n",
       "      <td>76</td>\n",
       "      <td>11</td>\n",
       "      <td>25.0</td>\n",
       "      <td>101.09</td>\n",
       "      <td>Mostly Cloudy</td>\n",
       "      <td>CLOUDY</td>\n",
       "    </tr>\n",
       "    <tr>\n",
       "      <th>2724</th>\n",
       "      <td>2012-04-23 12:00:00</td>\n",
       "      <td>4.6</td>\n",
       "      <td>1.9</td>\n",
       "      <td>83</td>\n",
       "      <td>46</td>\n",
       "      <td>24.1</td>\n",
       "      <td>99.09</td>\n",
       "      <td>Cloudy</td>\n",
       "      <td>CLOUDY</td>\n",
       "    </tr>\n",
       "    <tr>\n",
       "      <th>2405</th>\n",
       "      <td>2012-04-10 05:00:00</td>\n",
       "      <td>4.0</td>\n",
       "      <td>1.6</td>\n",
       "      <td>84</td>\n",
       "      <td>9</td>\n",
       "      <td>24.1</td>\n",
       "      <td>99.39</td>\n",
       "      <td>Cloudy</td>\n",
       "      <td>CLOUDY</td>\n",
       "    </tr>\n",
       "    <tr>\n",
       "      <th>8214</th>\n",
       "      <td>2012-12-08 06:00:00</td>\n",
       "      <td>2.4</td>\n",
       "      <td>0.3</td>\n",
       "      <td>86</td>\n",
       "      <td>9</td>\n",
       "      <td>25.0</td>\n",
       "      <td>101.05</td>\n",
       "      <td>Cloudy</td>\n",
       "      <td>CLOUDY</td>\n",
       "    </tr>\n",
       "  </tbody>\n",
       "</table>\n",
       "</div>"
      ],
      "text/plain": [
       "               Date/Time  Temperature (in Degree Celsius)  \\\n",
       "4122 2012-06-20 18:00:00                             32.4   \n",
       "5019 2012-07-28 03:00:00                             18.7   \n",
       "2724 2012-04-23 12:00:00                              4.6   \n",
       "2405 2012-04-10 05:00:00                              4.0   \n",
       "8214 2012-12-08 06:00:00                              2.4   \n",
       "\n",
       "      Dew Point Temperature (in Degree Celsius)  Relative Humidity (in %)  \\\n",
       "4122                                       19.9                        48   \n",
       "5019                                       14.3                        76   \n",
       "2724                                        1.9                        83   \n",
       "2405                                        1.6                        84   \n",
       "8214                                        0.3                        86   \n",
       "\n",
       "      Wind Speed (in km/h)  Visibility (in km)  Pressure (in kilopascal)  \\\n",
       "4122                    17                24.1                    100.61   \n",
       "5019                    11                25.0                    101.09   \n",
       "2724                    46                24.1                     99.09   \n",
       "2405                     9                24.1                     99.39   \n",
       "8214                     9                25.0                    101.05   \n",
       "\n",
       "     Weather Description Weather  \n",
       "4122       Mostly Cloudy  CLOUDY  \n",
       "5019       Mostly Cloudy  CLOUDY  \n",
       "2724              Cloudy  CLOUDY  \n",
       "2405              Cloudy  CLOUDY  \n",
       "8214              Cloudy  CLOUDY  "
      ]
     },
     "execution_count": 47,
     "metadata": {},
     "output_type": "execute_result"
    }
   ],
   "source": [
    "weather_df.head()"
   ]
  },
  {
   "cell_type": "markdown",
   "id": "15be2e3f",
   "metadata": {},
   "source": [
    "### Drop Irrelevant Columns"
   ]
  },
  {
   "cell_type": "code",
   "execution_count": 48,
   "id": "a6a0bf02",
   "metadata": {},
   "outputs": [],
   "source": [
    "weather_df.drop(columns = ['Date/Time', 'Weather Description'],axis=1,inplace=True)"
   ]
  },
  {
   "cell_type": "markdown",
   "id": "112d799f",
   "metadata": {},
   "source": [
    "## Correlation"
   ]
  },
  {
   "cell_type": "code",
   "execution_count": 50,
   "id": "c7eef9c8",
   "metadata": {},
   "outputs": [],
   "source": [
    "cols= ['Temperature (in Degree Celsius)','Dew Point Temperature (in Degree Celsius)','Relative Humidity (in %)','Wind Speed (in km/h)','Visibility (in km)','Pressure (in kilopascal)']"
   ]
  },
  {
   "cell_type": "code",
   "execution_count": 51,
   "id": "c6f99ffd",
   "metadata": {},
   "outputs": [],
   "source": [
    "cor_matrix = weather_df[cols].corr()"
   ]
  },
  {
   "cell_type": "code",
   "execution_count": 54,
   "id": "ac0d4d0a",
   "metadata": {},
   "outputs": [
    {
     "data": {
      "text/plain": [
       "<Axes: >"
      ]
     },
     "execution_count": 54,
     "metadata": {},
     "output_type": "execute_result"
    },
    {
     "data": {
      "image/png": "[encoded data removed]",
      "text/plain": [
       "<Figure size 640x480 with 2 Axes>"
      ]
     },
     "metadata": {},
     "output_type": "display_data"
    }
   ],
   "source": [
    "sns.heatmap(cor_matrix,annot=True)"
   ]
  },
  {
   "cell_type": "markdown",
   "id": "84196be0",
   "metadata": {},
   "source": [
    "## Visualisation"
   ]
  },
  {
   "cell_type": "code",
   "execution_count": 56,
   "id": "f26cbafe",
   "metadata": {},
   "outputs": [
    {
     "data": {
      "text/plain": [
       "<Axes: ylabel='Frequency'>"
      ]
     },
     "execution_count": 56,
     "metadata": {},
     "output_type": "execute_result"
    },
    {
     "data": {
      "image/png": "[encoded data removed]",
      "text/plain": [
       "<Figure size 640x480 with 1 Axes>"
      ]
     },
     "metadata": {},
     "output_type": "display_data"
    }
   ],
   "source": [
    "weather_df['Temperature (in Degree Celsius)'].plot(kind='hist')"
   ]
  },
  {
   "cell_type": "code",
   "execution_count": 57,
   "id": "d7bbf3bf",
   "metadata": {},
   "outputs": [
    {
     "data": {
      "text/plain": [
       "<Axes: ylabel='Frequency'>"
      ]
     },
     "execution_count": 57,
     "metadata": {},
     "output_type": "execute_result"
    },
    {
     "data": {
      "image/png": "[encoded data removed]",
      "text/plain": [
       "<Figure size 640x480 with 1 Axes>"
      ]
     },
     "metadata": {},
     "output_type": "display_data"
    }
   ],
   "source": [
    "weather_df['Relative Humidity (in %)'].plot(kind='hist')"
   ]
  },
  {
   "cell_type": "code",
   "execution_count": 58,
   "id": "df1adfc1",
   "metadata": {},
   "outputs": [
    {
     "data": {
      "text/plain": [
       "<Axes: >"
      ]
     },
     "execution_count": 58,
     "metadata": {},
     "output_type": "execute_result"
    },
    {
     "data": {
      "image/png": "[encoded data removed]",
      "text/plain": [
       "<Figure size 640x480 with 1 Axes>"
      ]
     },
     "metadata": {},
     "output_type": "display_data"
    }
   ],
   "source": [
    "weather_df['Visibility (in km)'].plot(kind='box')"
   ]
  },
  {
   "cell_type": "code",
   "execution_count": 64,
   "id": "27ea574a",
   "metadata": {},
   "outputs": [
    {
     "data": {
      "text/plain": [
       "<Axes: xlabel='Pressure (in kilopascal)', ylabel='Count'>"
      ]
     },
     "execution_count": 64,
     "metadata": {},
     "output_type": "execute_result"
    },
    {
     "data": {
      "image/png": "[encoded data removed]",
      "text/plain": [
       "<Figure size 1000x800 with 4 Axes>"
      ]
     },
     "metadata": {},
     "output_type": "display_data"
    }
   ],
   "source": [
    "sns.set(style='darkgrid')\n",
    "fig,axs=plt.subplots(2,2,figsize=(10,8))\n",
    "sns.histplot(data=weather_df,x='Dew Point Temperature (in Degree Celsius)',kde=True,ax=axs[0,0],color='green')\n",
    "sns.histplot(data=weather_df,x='Relative Humidity (in %)',kde=True,ax=axs[0,1],color='red')\n",
    "sns.histplot(data=weather_df,x='Visibility (in km)',kde=True,ax=axs[1,0],color='blue')\n",
    "sns.histplot(data=weather_df,x='Pressure (in kilopascal)',kde=True,ax=axs[1,1],color='orange')"
   ]
  },
  {
   "cell_type": "markdown",
   "id": "9f110ebc",
   "metadata": {},
   "source": [
    "## Label Encoding"
   ]
  },
  {
   "cell_type": "code",
   "execution_count": 60,
   "id": "87be6dc1",
   "metadata": {},
   "outputs": [],
   "source": [
    "label_encoder=LabelEncoder()"
   ]
  },
  {
   "cell_type": "code",
   "execution_count": 61,
   "id": "2e5bf040",
   "metadata": {},
   "outputs": [],
   "source": [
    "weather_df['Weather']=label_encoder.fit_transform(weather_df['Weather'])"
   ]
  },
  {
   "cell_type": "code",
   "execution_count": 62,
   "id": "752b6300",
   "metadata": {},
   "outputs": [
    {
     "data": {
      "text/plain": [
       "array(['CLEAR', 'CLOUDY', 'RAIN', 'SNOW'], dtype=object)"
      ]
     },
     "execution_count": 62,
     "metadata": {},
     "output_type": "execute_result"
    }
   ],
   "source": [
    "label_encoder.classes_"
   ]
  },
  {
   "cell_type": "code",
   "execution_count": 63,
   "id": "fdea5913",
   "metadata": {},
   "outputs": [
    {
     "data": {
      "text/html": [
       "<div>\n",
       "<style scoped>\n",
       "    .dataframe tbody tr th:only-of-type {\n",
       "        vertical-align: middle;\n",
       "    }\n",
       "\n",
       "    .dataframe tbody tr th {\n",
       "        vertical-align: top;\n",
       "    }\n",
       "\n",
       "    .dataframe thead th {\n",
       "        text-align: right;\n",
       "    }\n",
       "</style>\n",
       "<table border=\"1\" class=\"dataframe\">\n",
       "  <thead>\n",
       "    <tr style=\"text-align: right;\">\n",
       "      <th></th>\n",
       "      <th>Temperature (in Degree Celsius)</th>\n",
       "      <th>Dew Point Temperature (in Degree Celsius)</th>\n",
       "      <th>Relative Humidity (in %)</th>\n",
       "      <th>Wind Speed (in km/h)</th>\n",
       "      <th>Visibility (in km)</th>\n",
       "      <th>Pressure (in kilopascal)</th>\n",
       "      <th>Weather</th>\n",
       "    </tr>\n",
       "  </thead>\n",
       "  <tbody>\n",
       "    <tr>\n",
       "      <th>4122</th>\n",
       "      <td>32.4</td>\n",
       "      <td>19.9</td>\n",
       "      <td>48</td>\n",
       "      <td>17</td>\n",
       "      <td>24.1</td>\n",
       "      <td>100.61</td>\n",
       "      <td>1</td>\n",
       "    </tr>\n",
       "    <tr>\n",
       "      <th>5019</th>\n",
       "      <td>18.7</td>\n",
       "      <td>14.3</td>\n",
       "      <td>76</td>\n",
       "      <td>11</td>\n",
       "      <td>25.0</td>\n",
       "      <td>101.09</td>\n",
       "      <td>1</td>\n",
       "    </tr>\n",
       "    <tr>\n",
       "      <th>2724</th>\n",
       "      <td>4.6</td>\n",
       "      <td>1.9</td>\n",
       "      <td>83</td>\n",
       "      <td>46</td>\n",
       "      <td>24.1</td>\n",
       "      <td>99.09</td>\n",
       "      <td>1</td>\n",
       "    </tr>\n",
       "    <tr>\n",
       "      <th>2405</th>\n",
       "      <td>4.0</td>\n",
       "      <td>1.6</td>\n",
       "      <td>84</td>\n",
       "      <td>9</td>\n",
       "      <td>24.1</td>\n",
       "      <td>99.39</td>\n",
       "      <td>1</td>\n",
       "    </tr>\n",
       "    <tr>\n",
       "      <th>8214</th>\n",
       "      <td>2.4</td>\n",
       "      <td>0.3</td>\n",
       "      <td>86</td>\n",
       "      <td>9</td>\n",
       "      <td>25.0</td>\n",
       "      <td>101.05</td>\n",
       "      <td>1</td>\n",
       "    </tr>\n",
       "  </tbody>\n",
       "</table>\n",
       "</div>"
      ],
      "text/plain": [
       "      Temperature (in Degree Celsius)  \\\n",
       "4122                             32.4   \n",
       "5019                             18.7   \n",
       "2724                              4.6   \n",
       "2405                              4.0   \n",
       "8214                              2.4   \n",
       "\n",
       "      Dew Point Temperature (in Degree Celsius)  Relative Humidity (in %)  \\\n",
       "4122                                       19.9                        48   \n",
       "5019                                       14.3                        76   \n",
       "2724                                        1.9                        83   \n",
       "2405                                        1.6                        84   \n",
       "8214                                        0.3                        86   \n",
       "\n",
       "      Wind Speed (in km/h)  Visibility (in km)  Pressure (in kilopascal)  \\\n",
       "4122                    17                24.1                    100.61   \n",
       "5019                    11                25.0                    101.09   \n",
       "2724                    46                24.1                     99.09   \n",
       "2405                     9                24.1                     99.39   \n",
       "8214                     9                25.0                    101.05   \n",
       "\n",
       "      Weather  \n",
       "4122        1  \n",
       "5019        1  \n",
       "2724        1  \n",
       "2405        1  \n",
       "8214        1  "
      ]
     },
     "execution_count": 63,
     "metadata": {},
     "output_type": "execute_result"
    }
   ],
   "source": [
    "weather_df.head()"
   ]
  },
  {
   "cell_type": "markdown",
   "id": "38f4b55b",
   "metadata": {},
   "source": [
    "## Independent & Dependent Variables"
   ]
  },
  {
   "cell_type": "code",
   "execution_count": 65,
   "id": "e081c5db",
   "metadata": {},
   "outputs": [],
   "source": [
    "X=weather_df.drop(['Weather'],axis=1)"
   ]
  },
  {
   "cell_type": "code",
   "execution_count": 66,
   "id": "87bf6b20",
   "metadata": {},
   "outputs": [],
   "source": [
    "y=weather_df['Weather']"
   ]
  },
  {
   "cell_type": "markdown",
   "id": "4f6b7384",
   "metadata": {},
   "source": [
    "## Feature Scaling"
   ]
  },
  {
   "cell_type": "code",
   "execution_count": 68,
   "id": "e4450353",
   "metadata": {},
   "outputs": [],
   "source": [
    "std_scaler = StandardScaler()"
   ]
  },
  {
   "cell_type": "code",
   "execution_count": 69,
   "id": "0bf67a24",
   "metadata": {},
   "outputs": [],
   "source": [
    "X_std=std_scaler.fit_transform(X)"
   ]
  },
  {
   "cell_type": "markdown",
   "id": "e5b77126",
   "metadata": {},
   "source": [
    "## Train Test Splitting"
   ]
  },
  {
   "cell_type": "code",
   "execution_count": 71,
   "id": "b3a9e585",
   "metadata": {},
   "outputs": [],
   "source": [
    "X_train,X_test,y_train,y_test=train_test_split(X_std,y,test_size=0.2,random_state=42)"
   ]
  },
  {
   "cell_type": "code",
   "execution_count": 72,
   "id": "2f05eff7",
   "metadata": {},
   "outputs": [
    {
     "data": {
      "text/plain": [
       "((1887, 6), (472, 6))"
      ]
     },
     "execution_count": 72,
     "metadata": {},
     "output_type": "execute_result"
    }
   ],
   "source": [
    "X_train.shape,X_test.shape"
   ]
  },
  {
   "cell_type": "markdown",
   "id": "fff495a7",
   "metadata": {},
   "source": [
    "## Model"
   ]
  },
  {
   "cell_type": "code",
   "execution_count": 75,
   "id": "528d8cb0",
   "metadata": {},
   "outputs": [],
   "source": [
    "decision_tree=DecisionTreeClassifier()"
   ]
  },
  {
   "cell_type": "markdown",
   "id": "84f6728b",
   "metadata": {},
   "source": [
    "## Model Training"
   ]
  },
  {
   "cell_type": "code",
   "execution_count": 76,
   "id": "8a8a1904",
   "metadata": {},
   "outputs": [
    {
     "data": {
      "text/html": [
       "<style>#sk-container-id-1 {color: black;background-color: white;}#sk-container-id-1 pre{padding: 0;}#sk-container-id-1 div.sk-toggleable {background-color: white;}#sk-container-id-1 label.sk-toggleable__label {cursor: pointer;display: block;width: 100%;margin-bottom: 0;padding: 0.3em;box-sizing: border-box;text-align: center;}#sk-container-id-1 label.sk-toggleable__label-arrow:before {content: \"▸\";float: left;margin-right: 0.25em;color: #696969;}#sk-container-id-1 label.sk-toggleable__label-arrow:hover:before {color: black;}#sk-container-id-1 div.sk-estimator:hover label.sk-toggleable__label-arrow:before {color: black;}#sk-container-id-1 div.sk-toggleable__content {max-height: 0;max-width: 0;overflow: hidden;text-align: left;background-color: #f0f8ff;}#sk-container-id-1 div.sk-toggleable__content pre {margin: 0.2em;color: black;border-radius: 0.25em;background-color: #f0f8ff;}#sk-container-id-1 input.sk-toggleable__control:checked~div.sk-toggleable__content {max-height: 200px;max-width: 100%;overflow: auto;}#sk-container-id-1 input.sk-toggleable__control:checked~label.sk-toggleable__label-arrow:before {content: \"▾\";}#sk-container-id-1 div.sk-estimator input.sk-toggleable__control:checked~label.sk-toggleable__label {background-color: #d4ebff;}#sk-container-id-1 div.sk-label input.sk-toggleable__control:checked~label.sk-toggleable__label {background-color: #d4ebff;}#sk-container-id-1 input.sk-hidden--visually {border: 0;clip: rect(1px 1px 1px 1px);clip: rect(1px, 1px, 1px, 1px);height: 1px;margin: -1px;overflow: hidden;padding: 0;position: absolute;width: 1px;}#sk-container-id-1 div.sk-estimator {font-family: monospace;background-color: #f0f8ff;border: 1px dotted black;border-radius: 0.25em;box-sizing: border-box;margin-bottom: 0.5em;}#sk-container-id-1 div.sk-estimator:hover {background-color: #d4ebff;}#sk-container-id-1 div.sk-parallel-item::after {content: \"\";width: 100%;border-bottom: 1px solid gray;flex-grow: 1;}#sk-container-id-1 div.sk-label:hover label.sk-toggleable__label {background-color: #d4ebff;}#sk-container-id-1 div.sk-serial::before {content: \"\";position: absolute;border-left: 1px solid gray;box-sizing: border-box;top: 0;bottom: 0;left: 50%;z-index: 0;}#sk-container-id-1 div.sk-serial {display: flex;flex-direction: column;align-items: center;background-color: white;padding-right: 0.2em;padding-left: 0.2em;position: relative;}#sk-container-id-1 div.sk-item {position: relative;z-index: 1;}#sk-container-id-1 div.sk-parallel {display: flex;align-items: stretch;justify-content: center;background-color: white;position: relative;}#sk-container-id-1 div.sk-item::before, #sk-container-id-1 div.sk-parallel-item::before {content: \"\";position: absolute;border-left: 1px solid gray;box-sizing: border-box;top: 0;bottom: 0;left: 50%;z-index: -1;}#sk-container-id-1 div.sk-parallel-item {display: flex;flex-direction: column;z-index: 1;position: relative;background-color: white;}#sk-container-id-1 div.sk-parallel-item:first-child::after {align-self: flex-end;width: 50%;}#sk-container-id-1 div.sk-parallel-item:last-child::after {align-self: flex-start;width: 50%;}#sk-container-id-1 div.sk-parallel-item:only-child::after {width: 0;}#sk-container-id-1 div.sk-dashed-wrapped {border: 1px dashed gray;margin: 0 0.4em 0.5em 0.4em;box-sizing: border-box;padding-bottom: 0.4em;background-color: white;}#sk-container-id-1 div.sk-label label {font-family: monospace;font-weight: bold;display: inline-block;line-height: 1.2em;}#sk-container-id-1 div.sk-label-container {text-align: center;}#sk-container-id-1 div.sk-container {/* jupyter's `normalize.less` sets `[hidden] { display: none; }` but bootstrap.min.css set `[hidden] { display: none !important; }` so we also need the `!important` here to be able to override the default hidden behavior on the sphinx rendered scikit-learn.org. See: https://github.com/scikit-learn/scikit-learn/issues/21755 */display: inline-block !important;position: relative;}#sk-container-id-1 div.sk-text-repr-fallback {display: none;}</style><div id=\"sk-container-id-1\" class=\"sk-top-container\"><div class=\"sk-text-repr-fallback\"><pre>DecisionTreeClassifier()</pre><b>In a Jupyter environment, please rerun this cell to show the HTML representation or trust the notebook. <br />On GitHub, the HTML representation is unable to render, please try loading this page with nbviewer.org.</b></div><div class=\"sk-container\" hidden><div class=\"sk-item\"><div class=\"sk-estimator sk-toggleable\"><input class=\"sk-toggleable__control sk-hidden--visually\" id=\"sk-estimator-id-1\" type=\"checkbox\" checked><label for=\"sk-estimator-id-1\" class=\"sk-toggleable__label sk-toggleable__label-arrow\">DecisionTreeClassifier</label><div class=\"sk-toggleable__content\"><pre>DecisionTreeClassifier()</pre></div></div></div></div></div>"
      ],
      "text/plain": [
       "DecisionTreeClassifier()"
      ]
     },
     "execution_count": 76,
     "metadata": {},
     "output_type": "execute_result"
    }
   ],
   "source": [
    "decision_tree.fit(X_train,y_train)"
   ]
  },
  {
   "cell_type": "markdown",
   "id": "b263c404",
   "metadata": {},
   "source": [
    "## Predictions:"
   ]
  },
  {
   "cell_type": "code",
   "execution_count": 77,
   "id": "fb8d31b5",
   "metadata": {},
   "outputs": [],
   "source": [
    "y_pred=decision_tree.predict(X_test)"
   ]
  },
  {
   "cell_type": "markdown",
   "id": "d6fa48a4",
   "metadata": {},
   "source": [
    "## Evaluation"
   ]
  },
  {
   "cell_type": "code",
   "execution_count": 79,
   "id": "a483e594",
   "metadata": {},
   "outputs": [
    {
     "data": {
      "text/plain": [
       "0.6207627118644068"
      ]
     },
     "execution_count": 79,
     "metadata": {},
     "output_type": "execute_result"
    }
   ],
   "source": [
    "accuracy_score(y_test,y_pred)"
   ]
  },
  {
   "cell_type": "code",
   "execution_count": 80,
   "id": "43224a17",
   "metadata": {},
   "outputs": [
    {
     "name": "stdout",
     "output_type": "stream",
     "text": [
      "              precision    recall  f1-score   support\n",
      "\n",
      "           0       0.63      0.63      0.63       118\n",
      "           1       0.47      0.43      0.45       128\n",
      "           2       0.63      0.66      0.64       126\n",
      "           3       0.76      0.81      0.79       100\n",
      "\n",
      "    accuracy                           0.62       472\n",
      "   macro avg       0.62      0.63      0.63       472\n",
      "weighted avg       0.62      0.62      0.62       472\n",
      "\n"
     ]
    }
   ],
   "source": [
    "print(classification_report(y_test,y_pred))"
   ]
  },
  {
   "cell_type": "code",
   "execution_count": 81,
   "id": "e90a886c",
   "metadata": {},
   "outputs": [
    {
     "data": {
      "text/plain": [
       "<Axes: >"
      ]
     },
     "execution_count": 81,
     "metadata": {},
     "output_type": "execute_result"
    },
    {
     "data": {
      "image/png": "[encoded data removed]",
      "text/plain": [
       "<Figure size 640x480 with 2 Axes>"
      ]
     },
     "metadata": {},
     "output_type": "display_data"
    }
   ],
   "source": [
    "cm=confusion_matrix(y_test,y_pred)\n",
    "sns.heatmap(cm,annot=True,fmt='d')"
   ]
  },
  {
   "cell_type": "markdown",
   "id": "e105fed8",
   "metadata": {},
   "source": [
    "## Multiple Models"
   ]
  },
  {
   "cell_type": "code",
   "execution_count": 109,
   "id": "d2dd2a3e",
   "metadata": {},
   "outputs": [],
   "source": [
    "rf=RandomForestClassifier()\n",
    "svc_m=SVC()\n",
    "knn=KNeighborsClassifier()\n",
    "lr=LogisticRegression()\n",
    "nb=GaussianNB()\n",
    "gb_classifier = GradientBoostingClassifier()"
   ]
  },
  {
   "cell_type": "code",
   "execution_count": 110,
   "id": "295717a5",
   "metadata": {},
   "outputs": [],
   "source": [
    "model_list=[decision_tree,rf,svc_m,knn,lr,nb]"
   ]
  },
  {
   "cell_type": "code",
   "execution_count": 111,
   "id": "893a9727",
   "metadata": {},
   "outputs": [],
   "source": [
    "acc_list=[]\n",
    "for model in model_list:\n",
    "    model.fit(X_train,y_train)\n",
    "    y_pred=model.predict(X_test)\n",
    "    acc=accuracy_score(y_test,y_pred)\n",
    "    acc_list.append(acc)"
   ]
  },
  {
   "cell_type": "code",
   "execution_count": 112,
   "id": "4b88e51d",
   "metadata": {},
   "outputs": [
    {
     "data": {
      "text/plain": [
       "[0.6122881355932204,\n",
       " 0.6758474576271186,\n",
       " 0.5889830508474576,\n",
       " 0.6398305084745762,\n",
       " 0.5741525423728814,\n",
       " 0.5741525423728814]"
      ]
     },
     "execution_count": 112,
     "metadata": {},
     "output_type": "execute_result"
    }
   ],
   "source": [
    "acc_list"
   ]
  },
  {
   "cell_type": "markdown",
   "id": "b7e528ed",
   "metadata": {},
   "source": [
    "Best Accuracy for Randorm Forest"
   ]
  },
  {
   "cell_type": "code",
   "execution_count": 113,
   "id": "100a80a5",
   "metadata": {},
   "outputs": [],
   "source": [
    "model_df=pd.DataFrame({'Model':model_list,'Accuracy':acc_list})"
   ]
  },
  {
   "cell_type": "code",
   "execution_count": 114,
   "id": "826beeef",
   "metadata": {},
   "outputs": [
    {
     "data": {
      "text/html": [
       "<div>\n",
       "<style scoped>\n",
       "    .dataframe tbody tr th:only-of-type {\n",
       "        vertical-align: middle;\n",
       "    }\n",
       "\n",
       "    .dataframe tbody tr th {\n",
       "        vertical-align: top;\n",
       "    }\n",
       "\n",
       "    .dataframe thead th {\n",
       "        text-align: right;\n",
       "    }\n",
       "</style>\n",
       "<table border=\"1\" class=\"dataframe\">\n",
       "  <thead>\n",
       "    <tr style=\"text-align: right;\">\n",
       "      <th></th>\n",
       "      <th>Model</th>\n",
       "      <th>Accuracy</th>\n",
       "    </tr>\n",
       "  </thead>\n",
       "  <tbody>\n",
       "    <tr>\n",
       "      <th>0</th>\n",
       "      <td>DecisionTreeClassifier()</td>\n",
       "      <td>0.612288</td>\n",
       "    </tr>\n",
       "    <tr>\n",
       "      <th>1</th>\n",
       "      <td>(DecisionTreeClassifier(max_features='sqrt', r...</td>\n",
       "      <td>0.675847</td>\n",
       "    </tr>\n",
       "    <tr>\n",
       "      <th>2</th>\n",
       "      <td>SVC()</td>\n",
       "      <td>0.588983</td>\n",
       "    </tr>\n",
       "    <tr>\n",
       "      <th>3</th>\n",
       "      <td>KNeighborsClassifier()</td>\n",
       "      <td>0.639831</td>\n",
       "    </tr>\n",
       "    <tr>\n",
       "      <th>4</th>\n",
       "      <td>LogisticRegression()</td>\n",
       "      <td>0.574153</td>\n",
       "    </tr>\n",
       "    <tr>\n",
       "      <th>5</th>\n",
       "      <td>GaussianNB()</td>\n",
       "      <td>0.574153</td>\n",
       "    </tr>\n",
       "  </tbody>\n",
       "</table>\n",
       "</div>"
      ],
      "text/plain": [
       "                                               Model  Accuracy\n",
       "0                           DecisionTreeClassifier()  0.612288\n",
       "1  (DecisionTreeClassifier(max_features='sqrt', r...  0.675847\n",
       "2                                              SVC()  0.588983\n",
       "3                             KNeighborsClassifier()  0.639831\n",
       "4                               LogisticRegression()  0.574153\n",
       "5                                       GaussianNB()  0.574153"
      ]
     },
     "execution_count": 114,
     "metadata": {},
     "output_type": "execute_result"
    }
   ],
   "source": [
    "model_df"
   ]
  },
  {
   "cell_type": "markdown",
   "id": "6dfc6a32",
   "metadata": {},
   "source": [
    "## K Fold Cross Validation"
   ]
  },
  {
   "cell_type": "code",
   "execution_count": 115,
   "id": "f29d921a",
   "metadata": {},
   "outputs": [],
   "source": [
    "scores=cross_val_score(gb_classifier,X_std,y,cv=5,scoring='accuracy')"
   ]
  },
  {
   "cell_type": "code",
   "execution_count": 116,
   "id": "2ba52850",
   "metadata": {},
   "outputs": [
    {
     "name": "stdout",
     "output_type": "stream",
     "text": [
      "[0.58686441 0.63347458 0.58050847 0.57838983 0.70700637]\n"
     ]
    }
   ],
   "source": [
    "print(scores)"
   ]
  },
  {
   "cell_type": "code",
   "execution_count": 117,
   "id": "3116983f",
   "metadata": {},
   "outputs": [
    {
     "data": {
      "text/plain": [
       "0.617248731512469"
      ]
     },
     "execution_count": 117,
     "metadata": {},
     "output_type": "execute_result"
    }
   ],
   "source": [
    "scores.mean()"
   ]
  },
  {
   "cell_type": "markdown",
   "id": "2efd09f8",
   "metadata": {},
   "source": [
    "## Hyparameter Tuning"
   ]
  },
  {
   "cell_type": "code",
   "execution_count": 118,
   "id": "b88db0b7",
   "metadata": {},
   "outputs": [],
   "source": [
    "param_grid = {\n",
    "    'n_estimators': [50, 100, 150],\n",
    "    'learning_rate': [0.01, 0.1, 0.5],\n",
    "    'max_depth': [3, 5, 7]\n",
    "}"
   ]
  },
  {
   "cell_type": "code",
   "execution_count": 121,
   "id": "24502670",
   "metadata": {},
   "outputs": [],
   "source": [
    "grid_search = GridSearchCV(gb_classifier, param_grid,cv=5, scoring='accuracy', n_jobs=-1)"
   ]
  },
  {
   "cell_type": "code",
   "execution_count": 122,
   "id": "5266deb6",
   "metadata": {},
   "outputs": [
    {
     "data": {
      "text/html": [
       "<style>#sk-container-id-4 {color: black;background-color: white;}#sk-container-id-4 pre{padding: 0;}#sk-container-id-4 div.sk-toggleable {background-color: white;}#sk-container-id-4 label.sk-toggleable__label {cursor: pointer;display: block;width: 100%;margin-bottom: 0;padding: 0.3em;box-sizing: border-box;text-align: center;}#sk-container-id-4 label.sk-toggleable__label-arrow:before {content: \"▸\";float: left;margin-right: 0.25em;color: #696969;}#sk-container-id-4 label.sk-toggleable__label-arrow:hover:before {color: black;}#sk-container-id-4 div.sk-estimator:hover label.sk-toggleable__label-arrow:before {color: black;}#sk-container-id-4 div.sk-toggleable__content {max-height: 0;max-width: 0;overflow: hidden;text-align: left;background-color: #f0f8ff;}#sk-container-id-4 div.sk-toggleable__content pre {margin: 0.2em;color: black;border-radius: 0.25em;background-color: #f0f8ff;}#sk-container-id-4 input.sk-toggleable__control:checked~div.sk-toggleable__content {max-height: 200px;max-width: 100%;overflow: auto;}#sk-container-id-4 input.sk-toggleable__control:checked~label.sk-toggleable__label-arrow:before {content: \"▾\";}#sk-container-id-4 div.sk-estimator input.sk-toggleable__control:checked~label.sk-toggleable__label {background-color: #d4ebff;}#sk-container-id-4 div.sk-label input.sk-toggleable__control:checked~label.sk-toggleable__label {background-color: #d4ebff;}#sk-container-id-4 input.sk-hidden--visually {border: 0;clip: rect(1px 1px 1px 1px);clip: rect(1px, 1px, 1px, 1px);height: 1px;margin: -1px;overflow: hidden;padding: 0;position: absolute;width: 1px;}#sk-container-id-4 div.sk-estimator {font-family: monospace;background-color: #f0f8ff;border: 1px dotted black;border-radius: 0.25em;box-sizing: border-box;margin-bottom: 0.5em;}#sk-container-id-4 div.sk-estimator:hover {background-color: #d4ebff;}#sk-container-id-4 div.sk-parallel-item::after {content: \"\";width: 100%;border-bottom: 1px solid gray;flex-grow: 1;}#sk-container-id-4 div.sk-label:hover label.sk-toggleable__label {background-color: #d4ebff;}#sk-container-id-4 div.sk-serial::before {content: \"\";position: absolute;border-left: 1px solid gray;box-sizing: border-box;top: 0;bottom: 0;left: 50%;z-index: 0;}#sk-container-id-4 div.sk-serial {display: flex;flex-direction: column;align-items: center;background-color: white;padding-right: 0.2em;padding-left: 0.2em;position: relative;}#sk-container-id-4 div.sk-item {position: relative;z-index: 1;}#sk-container-id-4 div.sk-parallel {display: flex;align-items: stretch;justify-content: center;background-color: white;position: relative;}#sk-container-id-4 div.sk-item::before, #sk-container-id-4 div.sk-parallel-item::before {content: \"\";position: absolute;border-left: 1px solid gray;box-sizing: border-box;top: 0;bottom: 0;left: 50%;z-index: -1;}#sk-container-id-4 div.sk-parallel-item {display: flex;flex-direction: column;z-index: 1;position: relative;background-color: white;}#sk-container-id-4 div.sk-parallel-item:first-child::after {align-self: flex-end;width: 50%;}#sk-container-id-4 div.sk-parallel-item:last-child::after {align-self: flex-start;width: 50%;}#sk-container-id-4 div.sk-parallel-item:only-child::after {width: 0;}#sk-container-id-4 div.sk-dashed-wrapped {border: 1px dashed gray;margin: 0 0.4em 0.5em 0.4em;box-sizing: border-box;padding-bottom: 0.4em;background-color: white;}#sk-container-id-4 div.sk-label label {font-family: monospace;font-weight: bold;display: inline-block;line-height: 1.2em;}#sk-container-id-4 div.sk-label-container {text-align: center;}#sk-container-id-4 div.sk-container {/* jupyter's `normalize.less` sets `[hidden] { display: none; }` but bootstrap.min.css set `[hidden] { display: none !important; }` so we also need the `!important` here to be able to override the default hidden behavior on the sphinx rendered scikit-learn.org. See: https://github.com/scikit-learn/scikit-learn/issues/21755 */display: inline-block !important;position: relative;}#sk-container-id-4 div.sk-text-repr-fallback {display: none;}</style><div id=\"sk-container-id-4\" class=\"sk-top-container\"><div class=\"sk-text-repr-fallback\"><pre>GridSearchCV(cv=5, estimator=GradientBoostingClassifier(), n_jobs=-1,\n",
       "             param_grid={&#x27;learning_rate&#x27;: [0.01, 0.1, 0.5],\n",
       "                         &#x27;max_depth&#x27;: [3, 5, 7],\n",
       "                         &#x27;n_estimators&#x27;: [50, 100, 150]},\n",
       "             scoring=&#x27;accuracy&#x27;)</pre><b>In a Jupyter environment, please rerun this cell to show the HTML representation or trust the notebook. <br />On GitHub, the HTML representation is unable to render, please try loading this page with nbviewer.org.</b></div><div class=\"sk-container\" hidden><div class=\"sk-item sk-dashed-wrapped\"><div class=\"sk-label-container\"><div class=\"sk-label sk-toggleable\"><input class=\"sk-toggleable__control sk-hidden--visually\" id=\"sk-estimator-id-6\" type=\"checkbox\" ><label for=\"sk-estimator-id-6\" class=\"sk-toggleable__label sk-toggleable__label-arrow\">GridSearchCV</label><div class=\"sk-toggleable__content\"><pre>GridSearchCV(cv=5, estimator=GradientBoostingClassifier(), n_jobs=-1,\n",
       "             param_grid={&#x27;learning_rate&#x27;: [0.01, 0.1, 0.5],\n",
       "                         &#x27;max_depth&#x27;: [3, 5, 7],\n",
       "                         &#x27;n_estimators&#x27;: [50, 100, 150]},\n",
       "             scoring=&#x27;accuracy&#x27;)</pre></div></div></div><div class=\"sk-parallel\"><div class=\"sk-parallel-item\"><div class=\"sk-item\"><div class=\"sk-label-container\"><div class=\"sk-label sk-toggleable\"><input class=\"sk-toggleable__control sk-hidden--visually\" id=\"sk-estimator-id-7\" type=\"checkbox\" ><label for=\"sk-estimator-id-7\" class=\"sk-toggleable__label sk-toggleable__label-arrow\">estimator: GradientBoostingClassifier</label><div class=\"sk-toggleable__content\"><pre>GradientBoostingClassifier()</pre></div></div></div><div class=\"sk-serial\"><div class=\"sk-item\"><div class=\"sk-estimator sk-toggleable\"><input class=\"sk-toggleable__control sk-hidden--visually\" id=\"sk-estimator-id-8\" type=\"checkbox\" ><label for=\"sk-estimator-id-8\" class=\"sk-toggleable__label sk-toggleable__label-arrow\">GradientBoostingClassifier</label><div class=\"sk-toggleable__content\"><pre>GradientBoostingClassifier()</pre></div></div></div></div></div></div></div></div></div></div>"
      ],
      "text/plain": [
       "GridSearchCV(cv=5, estimator=GradientBoostingClassifier(), n_jobs=-1,\n",
       "             param_grid={'learning_rate': [0.01, 0.1, 0.5],\n",
       "                         'max_depth': [3, 5, 7],\n",
       "                         'n_estimators': [50, 100, 150]},\n",
       "             scoring='accuracy')"
      ]
     },
     "execution_count": 122,
     "metadata": {},
     "output_type": "execute_result"
    }
   ],
   "source": [
    "grid_search.fit(X_train,y_train)"
   ]
  },
  {
   "cell_type": "markdown",
   "id": "0c394459",
   "metadata": {},
   "source": [
    "### Best Hyper Parameters"
   ]
  },
  {
   "cell_type": "code",
   "execution_count": 123,
   "id": "47eabcf9",
   "metadata": {},
   "outputs": [
    {
     "data": {
      "text/plain": [
       "{'learning_rate': 0.1, 'max_depth': 7, 'n_estimators': 100}"
      ]
     },
     "execution_count": 123,
     "metadata": {},
     "output_type": "execute_result"
    }
   ],
   "source": [
    "grid_search.best_params_"
   ]
  },
  {
   "cell_type": "code",
   "execution_count": 124,
   "id": "fad7df40",
   "metadata": {},
   "outputs": [],
   "source": [
    "best_estimator=grid_search.best_estimator_"
   ]
  },
  {
   "cell_type": "code",
   "execution_count": 125,
   "id": "72249fd4",
   "metadata": {},
   "outputs": [
    {
     "data": {
      "text/plain": [
       "0.5968764619093886"
      ]
     },
     "execution_count": 125,
     "metadata": {},
     "output_type": "execute_result"
    }
   ],
   "source": [
    "scores=cross_val_score(best_estimator,X_std,y,cv=5,scoring='accuracy')\n",
    "scores.mean()"
   ]
  },
  {
   "cell_type": "code",
   "execution_count": 126,
   "id": "7e66a190",
   "metadata": {},
   "outputs": [],
   "source": [
    "y_pred_new = best_estimator.predict(X_test)"
   ]
  },
  {
   "cell_type": "code",
   "execution_count": 127,
   "id": "943de09c",
   "metadata": {},
   "outputs": [
    {
     "data": {
      "text/plain": [
       "0.6483050847457628"
      ]
     },
     "execution_count": 127,
     "metadata": {},
     "output_type": "execute_result"
    }
   ],
   "source": [
    "accuracy_score(y_test,y_pred_new)"
   ]
  },
  {
   "cell_type": "markdown",
   "id": "ee8b39b4",
   "metadata": {},
   "source": [
    "## Prediction on New Data"
   ]
  },
  {
   "cell_type": "code",
   "execution_count": 128,
   "id": "9b3e1ec8",
   "metadata": {},
   "outputs": [],
   "source": [
    "new_data = [[32.4, 19.9, 48, 17, 24.1, 100.61]]"
   ]
  },
  {
   "cell_type": "code",
   "execution_count": 129,
   "id": "ddb10ef0",
   "metadata": {},
   "outputs": [],
   "source": [
    "predictions = best_estimator.predict(new_data)"
   ]
  },
  {
   "cell_type": "code",
   "execution_count": 130,
   "id": "674b89da",
   "metadata": {},
   "outputs": [],
   "source": [
    "# Define mapping between numeric labels and weather conditions\n",
    "label_to_weather = {1: 'CLEAR', 2: 'CLOUDY', 3: 'RAIN', 4: 'SNOW'}\n"
   ]
  },
  {
   "cell_type": "code",
   "execution_count": 133,
   "id": "70481c0e",
   "metadata": {},
   "outputs": [
    {
     "name": "stdout",
     "output_type": "stream",
     "text": [
      "Predicted Weather Condition: CLEAR\n"
     ]
    }
   ],
   "source": [
    "# Map predictions to target labels\n",
    "predicted_weather = label_to_weather[predictions[0]]\n",
    "\n",
    "print(\"Predicted Weather Condition:\", predicted_weather)"
   ]
  },
  {
   "cell_type": "markdown",
   "id": "40df35e2",
   "metadata": {},
   "source": [
    "### Save the Model"
   ]
  },
  {
   "cell_type": "code",
   "execution_count": 134,
   "id": "71f1a124",
   "metadata": {},
   "outputs": [],
   "source": [
    "# Save the model to a file\n",
    "with open('model.pkl', 'wb') as f:\n",
    "    pickle.dump(best_estimator, f)"
   ]
  },
  {
   "cell_type": "code",
   "execution_count": null,
   "id": "1eeb9cf0",
   "metadata": {},
   "outputs": [],
   "source": []
  }
 ],
 "metadata": {
  "kernelspec": {
   "display_name": "Python 3 (ipykernel)",
   "language": "python",
   "name": "python3"
  },
  "language_info": {
   "codemirror_mode": {
    "name": "ipython",
    "version": 3
   },
   "file_extension": ".py",
   "mimetype": "text/x-python",
   "name": "python",
   "nbconvert_exporter": "python",
   "pygments_lexer": "ipython3",
   "version": "3.11.3"
  }
 },
 "nbformat": 4,
 "nbformat_minor": 5
}
